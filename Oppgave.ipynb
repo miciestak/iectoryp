{
 "cells": [
  {
   "cell_type": "markdown",
   "metadata": {},
   "source": [
    "# Problemløsning med scripting\n",
    "Dette er en test for å vurdere om du er i stand til å løse en oppgave ved hjelp av scripting.\n",
    "\n",
    "Det er viktigere at du klarer å finne en metode for å løse problemet enn at du husker funksjonene i Python. Du kan derfor velge om du skriver hele eller deler av koden som fungerende Python eller som pseudokode. Bruk hhv. Code- eller Markdown-celle.\n",
    "\n",
    "Forklar hva du tenker underveis og spør om hjelp om du står fast.\n",
    "\n",
    "Hvis du ikke kjenner **jupyter** kan vi ta en rask demonstrasjon.\n",
    "\n",
    "### Lykke til!\n",
    "![img](img.png)\n",
    "\n",
    "dlaq glyybq! ar hixoqb abk ifiib qbpqbk sf exo pxqq pxjjbk. ar exo bskbk qfi xx ilbpb molyibjbo jba pzofmqfkd f mvqelk. abqqb bo bk bdbkphxm sf bo pmbpfbiq lmmqxqq xs kxxo sf phxi xkpbqqb kvb jbaxoybfabob."
   ]
  },
  {
   "cell_type": "code",
   "execution_count": 1,
   "metadata": {},
   "outputs": [
    {
     "data": {
      "text/plain": [
       "'abcdefghijklmnopqrstuvwxyz'"
      ]
     },
     "execution_count": 1,
     "metadata": {},
     "output_type": "execute_result"
    }
   ],
   "source": [
    "import string\n",
    "string.ascii_lowercase"
   ]
  },
  {
   "cell_type": "code",
   "execution_count": null,
   "metadata": {},
   "outputs": [],
   "source": [
    "the_text = 'dlaq glyybq! ar hixoqb abk ifiib qbpqbk sf exo pxqq pxjjbk. ar exo bskbk qfi xx ilbpb molyibjbo jba pzofmqfkd f mvqelk. abqqb bo bk bdbkphxm sf bo pmbpfbiq lmmqxqq xs kxxo sf phxi xkpbqqb kvb jbaxoybfabob.'\n",
    "the_text"
   ]
  },
  {
   "cell_type": "code",
   "execution_count": null,
   "metadata": {},
   "outputs": [],
   "source": [
    "# skriv kode og trykk ctrl + enter for å kjøre den"
   ]
  },
  {
   "cell_type": "code",
   "execution_count": null,
   "metadata": {},
   "outputs": [],
   "source": []
  }
 ],
 "metadata": {
  "kernelspec": {
   "display_name": "Python 3",
   "language": "python",
   "name": "python3"
  },
  "language_info": {
   "codemirror_mode": {
    "name": "ipython",
    "version": 3
   },
   "file_extension": ".py",
   "mimetype": "text/x-python",
   "name": "python",
   "nbconvert_exporter": "python",
   "pygments_lexer": "ipython3",
   "version": "3.7.4"
  }
 },
 "nbformat": 4,
 "nbformat_minor": 2
}
